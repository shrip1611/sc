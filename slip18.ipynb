{
  "nbformat": 4,
  "nbformat_minor": 0,
  "metadata": {
    "colab": {
      "provenance": []
    },
    "kernelspec": {
      "name": "python3",
      "display_name": "Python 3"
    },
    "language_info": {
      "name": "python"
    }
  },
  "cells": [
    {
      "cell_type": "code",
      "source": [
        "# Q1\n",
        "# Cartesian product\n",
        "def findCart(arr1, arr2, n, n1):\n",
        "  for i in range(0, n):\n",
        "    for j in range(0, n1):\n",
        "      print(\"{\", arr1[i], \", \", arr2[j], \"}, \", sep=\"\", end=\"\")\n",
        "    print(end='\\n')\n",
        "\n",
        "arr1 = [1, 2, 3]\n",
        "arr2 = [4, 5, 6]\n",
        "\n",
        "n1 = len(arr1)\n",
        "n2 = len(arr2)\n",
        "\n",
        "findCart(arr1, arr2, n1, n2)"
      ],
      "metadata": {
        "colab": {
          "base_uri": "https://localhost:8080/"
        },
        "id": "PbyBql2ss3mk",
        "outputId": "7020cebd-5361-43c6-b592-0d659ca83b39"
      },
      "execution_count": 28,
      "outputs": [
        {
          "output_type": "stream",
          "name": "stdout",
          "text": [
            "{1, 4}, {1, 5}, {1, 6}, \n",
            "{2, 4}, {2, 5}, {2, 6}, \n",
            "{3, 4}, {3, 5}, {3, 6}, \n"
          ]
        }
      ]
    },
    {
      "cell_type": "code",
      "source": [
        "#Complement\n",
        "A = dict()\n",
        "B = dict()\n",
        "Y = dict()\n",
        "\n",
        "A = {\"a\": 0.2, \"b\": 0.3, \"c\": 0.6, \"d\": 0.6}\n",
        "B = {\"a\": 0.9, \"b\": 0.9, \"c\": 0.4, \"d\": 0.5}\n",
        "\n",
        "for A_key in A:\n",
        "   Y[A_key]= 1-A[A_key]\n",
        "\n",
        "print('Fuzzy Set Complement is :', Y)"
      ],
      "metadata": {
        "colab": {
          "base_uri": "https://localhost:8080/"
        },
        "id": "9r3fY780uMWn",
        "outputId": "5e843e99-0c41-4524-b5a2-4a9ebe00b706"
      },
      "execution_count": 31,
      "outputs": [
        {
          "output_type": "stream",
          "name": "stdout",
          "text": [
            "Fuzzy Set Complement is : {'a': 0.8, 'b': 0.7, 'c': 0.4, 'd': 0.4}\n"
          ]
        }
      ]
    }
  ]
}