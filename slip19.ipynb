{
  "nbformat": 4,
  "nbformat_minor": 0,
  "metadata": {
    "colab": {
      "provenance": []
    },
    "kernelspec": {
      "name": "python3",
      "display_name": "Python 3"
    },
    "language_info": {
      "name": "python"
    }
  },
  "cells": [
    {
      "cell_type": "code",
      "execution_count": 2,
      "metadata": {
        "colab": {
          "base_uri": "https://localhost:8080/"
        },
        "id": "B_r4dpyLXHCY",
        "outputId": "44b7d5aa-743c-4e91-8fae-117ac06d7231"
      },
      "outputs": [
        {
          "output_type": "stream",
          "name": "stdout",
          "text": [
            "DeMorgan's Law 1:\n",
            "Complement of Union: [0.7, 0.5, 0.30000000000000004, 0.09999999999999998]\n",
            "Intersection of Complements: [0.7, 0.5, 0.30000000000000004, 0.09999999999999998]\n",
            "\n",
            "DeMorgan's Law 2:\n",
            "Complement of Intersection: [0.8, 0.6, 0.4, 0.19999999999999996]\n",
            "Union of Complements: [0.8, 0.6, 0.4, 0.19999999999999996]\n"
          ]
        }
      ],
      "source": [
        "# Q1\n",
        "def complement(A):\n",
        "    \"\"\"Function to compute complement of a fuzzy set.\"\"\"\n",
        "    return [1 - x for x in A]\n",
        "\n",
        "def intersection(A, B):\n",
        "    \"\"\"Function to compute intersection of two fuzzy sets.\"\"\"\n",
        "    return [min(A[i], B[i]) for i in range(len(A))]\n",
        "\n",
        "def union(A, B):\n",
        "    \"\"\"Function to compute union of two fuzzy sets.\"\"\"\n",
        "    return [max(A[i], B[i]) for i in range(len(A))]\n",
        "\n",
        "def demorgans_law1(A, B):\n",
        "    \"\"\"Implement DeMorgan's law 1: complement of the union equals intersection of complements.\"\"\"\n",
        "    complement_union = complement(union(A, B))\n",
        "    intersection_complements = intersection(complement(A), complement(B))\n",
        "    return complement_union, intersection_complements\n",
        "\n",
        "def demorgans_law2(A, B):\n",
        "    \"\"\"Implement DeMorgan's law 2: complement of the intersection equals union of complements.\"\"\"\n",
        "    complement_intersection = complement(intersection(A, B))\n",
        "    union_complements = union(complement(A), complement(B))\n",
        "    return complement_intersection, union_complements\n",
        "\n",
        "\n",
        "A = [0.2, 0.4, 0.6, 0.8]\n",
        "B = [0.3, 0.5, 0.7, 0.9]\n",
        "\n",
        "complement_union, intersection_complements = demorgans_law1(A, B)\n",
        "complement_intersection, union_complements = demorgans_law2(A, B)\n",
        "\n",
        "print(\"DeMorgan's Law 1:\")\n",
        "print(\"Complement of Union:\", complement_union)\n",
        "print(\"Intersection of Complements:\", intersection_complements)\n",
        "\n",
        "print(\"\\nDeMorgan's Law 2:\")\n",
        "print(\"Complement of Intersection:\", complement_intersection)\n",
        "print(\"Union of Complements:\", union_complements)"
      ]
    }
  ]
}