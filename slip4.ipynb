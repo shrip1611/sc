{
  "nbformat": 4,
  "nbformat_minor": 0,
  "metadata": {
    "colab": {
      "provenance": []
    },
    "kernelspec": {
      "name": "python3",
      "display_name": "Python 3"
    },
    "language_info": {
      "name": "python"
    }
  },
  "cells": [
    {
      "cell_type": "code",
      "source": [
        "# Q1\n",
        "# Cartesian product\n",
        "def findCart(arr1, arr2, n, n1):\n",
        "  for i in range(0, n):\n",
        "    for j in range(0, n1):\n",
        "      print(\"{\", arr1[i], \", \", arr2[j], \"}, \", sep=\"\", end=\"\")\n",
        "    print(end='\\n')\n",
        "\n",
        "arr1 = [1, 2, 3]\n",
        "arr2 = [4, 5, 6]\n",
        "\n",
        "n1 = len(arr1)\n",
        "n2 = len(arr2)\n",
        "findCart(arr1, arr2, n1, n2)\n"
      ],
      "metadata": {
        "colab": {
          "base_uri": "https://localhost:8080/"
        },
        "id": "X_ImPiMzpsAs",
        "outputId": "a6231210-30f8-4f9c-94ca-075e0832365c"
      },
      "execution_count": 21,
      "outputs": [
        {
          "output_type": "stream",
          "name": "stdout",
          "text": [
            "{1, 4}, {1, 5}, {1, 6}, \n",
            "{2, 4}, {2, 5}, {2, 6}, \n",
            "{3, 4}, {3, 5}, {3, 6}, \n"
          ]
        }
      ]
    },
    {
      "cell_type": "code",
      "source": [
        "# Union\n",
        "A = dict()\n",
        "B = dict()\n",
        "Y = dict()\n",
        "\n",
        "A = {\"a\": 0.2, \"b\": 0.3, \"c\": 0.6, \"d\": 0.6}\n",
        "B = {\"a\": 0.9, \"b\": 0.9, \"c\": 0.4, \"d\": 0.5}\n",
        "\n",
        "print('The First Fuzzy Set is :', A)\n",
        "print('The Second Fuzzy Set is :', B)\n",
        "\n",
        "\n",
        "for A_key, B_key in zip(A, B):\n",
        "\tA_value = A[A_key]\n",
        "\tB_value = B[B_key]\n",
        "\n",
        "\tif A_value > B_value:\n",
        "\t\tY[A_key] = A_value\n",
        "\telse:\n",
        "\t\tY[B_key] = B_value\n",
        "\n",
        "print('Fuzzy Set Union is :', Y)"
      ],
      "metadata": {
        "colab": {
          "base_uri": "https://localhost:8080/"
        },
        "id": "KOGVyFXTqcLO",
        "outputId": "203c5aea-570b-4adf-dbc9-0452825b4b56"
      },
      "execution_count": 22,
      "outputs": [
        {
          "output_type": "stream",
          "name": "stdout",
          "text": [
            "The First Fuzzy Set is : {'a': 0.2, 'b': 0.3, 'c': 0.6, 'd': 0.6}\n",
            "The Second Fuzzy Set is : {'a': 0.9, 'b': 0.9, 'c': 0.4, 'd': 0.5}\n",
            "Fuzzy Set Union is : {'a': 0.9, 'b': 0.9, 'c': 0.6, 'd': 0.6}\n"
          ]
        }
      ]
    }
  ]
}