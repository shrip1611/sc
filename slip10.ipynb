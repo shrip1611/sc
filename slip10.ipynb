{
  "nbformat": 4,
  "nbformat_minor": 0,
  "metadata": {
    "colab": {
      "provenance": []
    },
    "kernelspec": {
      "name": "python3",
      "display_name": "Python 3"
    },
    "language_info": {
      "name": "python"
    }
  },
  "cells": [
    {
      "cell_type": "code",
      "source": [
        "# Q1\n",
        "#Complement\n",
        "A = dict()\n",
        "B = dict()\n",
        "Y = dict()\n",
        "\n",
        "A = {\"a\": 0.2, \"b\": 0.3, \"c\": 0.6, \"d\": 0.6}\n",
        "B = {\"a\": 0.9, \"b\": 0.9, \"c\": 0.4, \"d\": 0.5}\n",
        "\n",
        "\n",
        "for A_key in A:\n",
        "   Y[A_key]= 1-A[A_key]\n",
        "\n",
        "print('Fuzzy Set Complement is :', Y)"
      ],
      "metadata": {
        "colab": {
          "base_uri": "https://localhost:8080/"
        },
        "id": "NZ8l_8t-xi8R",
        "outputId": "34f9d9c3-6b4f-41e1-e96a-61d6ed7f6073"
      },
      "execution_count": 46,
      "outputs": [
        {
          "output_type": "stream",
          "name": "stdout",
          "text": [
            "Fuzzy Set Complement is : {'a': 0.8, 'b': 0.7, 'c': 0.4, 'd': 0.4}\n"
          ]
        }
      ]
    },
    {
      "cell_type": "code",
      "source": [
        "# Cartesian product\n",
        "def findCart(arr1, arr2, n, n1):\n",
        "  for i in range(0, n):\n",
        "    for j in range(0, n1):\n",
        "      print(\"{\", arr1[i], \", \", arr2[j], \"}, \", sep=\"\", end=\"\")\n",
        "    print(end='\\n')\n",
        "\n",
        "arr1 = [1, 2, 3]\n",
        "arr2 = [4, 5, 6]\n",
        "\n",
        "n1 = len(arr1)\n",
        "n2 = len(arr2)\n",
        "\n",
        "findCart(arr1, arr2, n1, n2)"
      ],
      "metadata": {
        "colab": {
          "base_uri": "https://localhost:8080/"
        },
        "id": "1u3dUR-ayqq4",
        "outputId": "8277b22f-ce0f-4e11-ae26-88baf669c11b"
      },
      "execution_count": 43,
      "outputs": [
        {
          "output_type": "stream",
          "name": "stdout",
          "text": [
            "{1, 4}, {1, 5}, {1, 6}, \n",
            "{2, 4}, {2, 5}, {2, 6}, \n",
            "{3, 4}, {3, 5}, {3, 6}, \n"
          ]
        }
      ]
    },
    {
      "cell_type": "code",
      "source": [
        "# Q2\n",
        "import random\n",
        "\n",
        "POP_SIZE = 500\n",
        "MUT_RATE = 0.1\n",
        "TARGET = 'def'\n",
        "GENES = ' abcdefghijklmnopqrstuvwxyz'\n",
        "\n",
        "def initialize_pop(TARGET):\n",
        "    population = list()\n",
        "    tar_len = len(TARGET)\n",
        "\n",
        "    for i in range(POP_SIZE):\n",
        "        temp = list()\n",
        "        for j in range(tar_len):\n",
        "            temp.append(random.choice(GENES))\n",
        "        population.append(temp)\n",
        "\n",
        "    return population\n",
        "\n",
        "def crossover(selected_chromo, CHROMO_LEN, population):\n",
        "    offspring_cross = []\n",
        "    for i in range(int(POP_SIZE)):\n",
        "        parent1 = random.choice(selected_chromo)\n",
        "        parent2 = random.choice(population[:int(POP_SIZE*50)])\n",
        "\n",
        "        p1 = parent1[0]\n",
        "        p2 = parent2[0]\n",
        "\n",
        "        crossover_point = random.randint(1, CHROMO_LEN-1)\n",
        "        child =  p1[:crossover_point] + p2[crossover_point:]\n",
        "        offspring_cross.extend([child])\n",
        "    return offspring_cross\n",
        "\n",
        "def mutate(offspring, MUT_RATE):\n",
        "    mutated_offspring = []\n",
        "\n",
        "    for arr in offspring:\n",
        "        for i in range(len(arr)):\n",
        "            if random.random() < MUT_RATE:\n",
        "                arr[i] = random.choice(GENES)\n",
        "        mutated_offspring.append(arr)\n",
        "    return mutated_offspring\n",
        "\n",
        "def selection(population, TARGET):\n",
        "    sorted_chromo_pop = sorted(population, key= lambda x: x[1])\n",
        "    return sorted_chromo_pop[:int(0.5*POP_SIZE)]\n",
        "\n",
        "def fitness_cal(TARGET, chromo_from_pop):\n",
        "    difference = 0\n",
        "    for tar_char, chromo_char in zip(TARGET, chromo_from_pop):\n",
        "        if tar_char != chromo_char:\n",
        "            difference+=1\n",
        "\n",
        "    return [chromo_from_pop, difference]\n",
        "\n",
        "def replace(new_gen, population):\n",
        "    for _ in range(len(population)):\n",
        "        if population[_][1] > new_gen[_][1]:\n",
        "          population[_][0] = new_gen[_][0]\n",
        "          population[_][1] = new_gen[_][1]\n",
        "    return population\n",
        "\n",
        "def main(POP_SIZE, MUT_RATE, TARGET, GENES):\n",
        "\n",
        "    initial_population = initialize_pop(TARGET)\n",
        "    found = False\n",
        "    population = []\n",
        "    generation = 1\n",
        "\n",
        "    for _ in range(len(initial_population)):\n",
        "        population.append(fitness_cal(TARGET, initial_population[_]))\n",
        "\n",
        "    while not found:\n",
        "\n",
        "      selected = selection(population, TARGET)\n",
        "\n",
        "      population = sorted(population, key= lambda x:x[1])\n",
        "      crossovered = crossover(selected, len(TARGET), population)\n",
        "\n",
        "      mutated = mutate(crossovered, MUT_RATE)\n",
        "\n",
        "      new_gen = []\n",
        "      for _ in mutated:\n",
        "          new_gen.append(fitness_cal(TARGET, _))\n",
        "\n",
        "      population = replace(new_gen, population)\n",
        "\n",
        "\n",
        "      if (population[0][1] == 0):\n",
        "        print('Target found')\n",
        "        print('String: ' + str(population[0][0]) + ' Generation: ' + str(generation) + ' Fitness: ' + str(population[0][1]))\n",
        "        break\n",
        "      print('String: ' + str(population[0][0]) + ' Generation: ' + str(generation) + ' Fitness: ' + str(population[0][1]))\n",
        "      generation+=1\n",
        "\n",
        "main(POP_SIZE, MUT_RATE, TARGET, GENES)"
      ],
      "metadata": {
        "colab": {
          "base_uri": "https://localhost:8080/"
        },
        "id": "R3j6Wm4tyABe",
        "outputId": "aac7df4b-4eff-4859-821e-a706e61d6b0f"
      },
      "execution_count": 44,
      "outputs": [
        {
          "output_type": "stream",
          "name": "stdout",
          "text": [
            "String: ['d', 'w', 'f'] Generation: 1 Fitness: 1\n",
            "String: ['d', 'w', 'f'] Generation: 2 Fitness: 1\n",
            "String: ['d', 'w', 'f'] Generation: 3 Fitness: 1\n",
            "String: ['d', 'w', 'f'] Generation: 4 Fitness: 1\n",
            "Target found\n",
            "String: ['d', 'e', 'f'] Generation: 5 Fitness: 0\n"
          ]
        }
      ]
    },
    {
      "cell_type": "code",
      "source": [],
      "metadata": {
        "id": "7R-Zh38nyULB"
      },
      "execution_count": null,
      "outputs": []
    }
  ]
}