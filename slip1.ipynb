{
  "nbformat": 4,
  "nbformat_minor": 0,
  "metadata": {
    "colab": {
      "provenance": []
    },
    "kernelspec": {
      "name": "python3",
      "display_name": "Python 3"
    },
    "language_info": {
      "name": "python"
    }
  },
  "cells": [
    {
      "cell_type": "code",
      "execution_count": null,
      "metadata": {
        "id": "9DjQ0UhkdrXg"
      },
      "outputs": [],
      "source": []
    },
    {
      "cell_type": "code",
      "execution_count": null,
      "metadata": {
        "id": "ukiU4oWpeKXK"
      },
      "outputs": [],
      "source": []
    },
    {
      "cell_type": "code",
      "execution_count": 1,
      "metadata": {
        "colab": {
          "base_uri": "https://localhost:8080/"
        },
        "id": "Qi5aDUy8eMjc",
        "outputId": "61647d42-ac64-43e4-c486-1e06bd3f3bea"
      },
      "outputs": [
        {
          "output_type": "stream",
          "name": "stdout",
          "text": [
            "The First Fuzzy Set is : {'a': 0.2, 'b': 0.3, 'c': 0.6, 'd': 0.6}\n",
            "The Second Fuzzy Set is : {'a': 0.9, 'b': 0.9, 'c': 0.4, 'd': 0.5}\n",
            "Fuzzy Set Union is : {'a': 0.9, 'b': 0.9, 'c': 0.6, 'd': 0.6}\n"
          ]
        }
      ],
      "source": [
        "# Q1 fuzzy set\n",
        "A = dict()\n",
        "B = dict()\n",
        "Y = dict()\n",
        "\n",
        "A = {\"a\": 0.2, \"b\": 0.3, \"c\": 0.6, \"d\": 0.6}\n",
        "B = {\"a\": 0.9, \"b\": 0.9, \"c\": 0.4, \"d\": 0.5}\n",
        "\n",
        "print('The First Fuzzy Set is :', A)\n",
        "print('The Second Fuzzy Set is :', B)\n",
        "\n",
        "# union operation\n",
        "for A_key, B_key in zip(A, B):\n",
        "\tA_value = A[A_key]\n",
        "\tB_value = B[B_key]\n",
        "\n",
        "\tif A_value > B_value:\n",
        "\t\tY[A_key] = A_value\n",
        "\telse:\n",
        "\t\tY[B_key] = B_value\n",
        "\n",
        "print('Fuzzy Set Union is :', Y)"
      ]
    },
    {
      "cell_type": "code",
      "source": [
        "# intraction operation\n",
        "for A_key, B_key in zip(A, B):\n",
        "    A_value = A[A_key]\n",
        "    B_value = B[B_key]\n",
        "\n",
        "    if A_value < B_value:\n",
        "        Y[A_key] = A_value\n",
        "    else:\n",
        "        Y[B_key] = B_value\n",
        "print('Fuzzy Set Intersection is :', Y)"
      ],
      "metadata": {
        "colab": {
          "base_uri": "https://localhost:8080/"
        },
        "id": "LVx1yrPteoa3",
        "outputId": "0246710c-5c23-4b8e-89a8-d5966456f7e6"
      },
      "execution_count": 2,
      "outputs": [
        {
          "output_type": "stream",
          "name": "stdout",
          "text": [
            "Fuzzy Set Intersection is : {'a': 0.2, 'b': 0.3, 'c': 0.4, 'd': 0.5}\n"
          ]
        }
      ]
    },
    {
      "cell_type": "code",
      "source": [
        "# complement operation\n",
        "for A_key in A:\n",
        "   Y[A_key]= 1-A[A_key]\n",
        "\n",
        "print('Fuzzy Set Complement is :', Y)"
      ],
      "metadata": {
        "colab": {
          "base_uri": "https://localhost:8080/"
        },
        "id": "sEc3LKWues9v",
        "outputId": "8ccd3116-6d00-426c-f495-e50aaae2b044"
      },
      "execution_count": 3,
      "outputs": [
        {
          "output_type": "stream",
          "name": "stdout",
          "text": [
            "Fuzzy Set Complement is : {'a': 0.8, 'b': 0.7, 'c': 0.4, 'd': 0.4}\n"
          ]
        }
      ]
    },
    {
      "cell_type": "code",
      "source": [
        "# Differnce operation\n",
        "for A_key, B_key in zip(A, B):\n",
        "    A_value = A[A_key]\n",
        "    B_value = B[B_key]\n",
        "    B_value = 1 - B_value\n",
        "\n",
        "    if A_value < B_value:\n",
        "        Y[A_key] = A_value\n",
        "    else:\n",
        "        Y[B_key] = B_value\n",
        "\n",
        "print('Fuzzy Set Difference is :', Y)"
      ],
      "metadata": {
        "colab": {
          "base_uri": "https://localhost:8080/"
        },
        "id": "I3jiA5iYew7v",
        "outputId": "5473ba0c-6b1f-4b41-8261-e4882b5d9d23"
      },
      "execution_count": 4,
      "outputs": [
        {
          "output_type": "stream",
          "name": "stdout",
          "text": [
            "Fuzzy Set Difference is : {'a': 0.09999999999999998, 'b': 0.09999999999999998, 'c': 0.6, 'd': 0.5}\n"
          ]
        }
      ]
    },
    {
      "cell_type": "code",
      "source": [],
      "metadata": {
        "id": "447-rGGAfee4"
      },
      "execution_count": 6,
      "outputs": []
    },
    {
      "cell_type": "code",
      "source": [
        "# Q2 AND and OR\n",
        "import numpy as np\n",
        "\n",
        "def unitstep(v):\n",
        "    if v>= 0:\n",
        "        return 1\n",
        "    else:\n",
        "        return 0\n",
        "def percmod(x,w,b):\n",
        "    v=np.dot(w,x)+b\n",
        "    y=unitstep(v)\n",
        "    return y\n",
        "def andfunc(x):\n",
        "    w=np.array(x)\n",
        "    b=-1.5\n",
        "    return percmod(x,w,b)\n",
        "def orfunc(x):\n",
        "    w=np.array(x)\n",
        "    b=-1\n",
        "    return percmod(x,w,b)\n",
        "t1=np.array([0,1])\n",
        "t2=np.array([1,1])\n",
        "t3=np.array([0,0])\n",
        "t4=np.array([1,0])\n",
        "\n",
        "print(\"AND {}, {}: {}\".format(0,1,andfunc(t1)))\n",
        "print(\"AND {}, {}: {}\".format(1,1,andfunc(t2)))\n",
        "print(\"AND {}, {}: {}\".format(0,1,andfunc(t3)))\n",
        "print(\"AND {}, {}: {}\".format(1,0,andfunc(t4)))\n",
        "\n",
        "print(\"\\nOR {}, {}: {}\".format(0,1,orfunc(t1)))\n",
        "print(\"\\nOR {}, {}: {}\".format(1,1,orfunc(t2)))\n",
        "print(\"\\nOR {}, {}: {}\".format(0,0,orfunc(t3)))\n",
        "print(\"\\nOR {}, {}: {}\".format(1,0,orfunc(t4)))"
      ],
      "metadata": {
        "colab": {
          "base_uri": "https://localhost:8080/"
        },
        "id": "SWJNj-00kJIL",
        "outputId": "7ba68d5b-3808-4af3-908d-eef845657793"
      },
      "execution_count": 7,
      "outputs": [
        {
          "output_type": "stream",
          "name": "stdout",
          "text": [
            "AND 0, 1: 0\n",
            "AND 1, 1: 1\n",
            "AND 0, 1: 0\n",
            "AND 1, 0: 0\n",
            "\n",
            "OR 0, 1: 1\n",
            "\n",
            "OR 1, 1: 1\n",
            "\n",
            "OR 0, 0: 0\n",
            "\n",
            "OR 1, 0: 1\n"
          ]
        }
      ]
    }
  ]
}