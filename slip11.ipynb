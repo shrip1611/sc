{
  "nbformat": 4,
  "nbformat_minor": 0,
  "metadata": {
    "colab": {
      "provenance": []
    },
    "kernelspec": {
      "name": "python3",
      "display_name": "Python 3"
    },
    "language_info": {
      "name": "python"
    }
  },
  "cells": [
    {
      "cell_type": "code",
      "source": [
        "# Q1\n",
        "# union\n",
        "A = dict()\n",
        "B = dict()\n",
        "Y = dict()\n",
        "\n",
        "A = {\"a\": 0.2, \"b\": 0.3, \"c\": 0.6, \"d\": 0.6}\n",
        "B = {\"a\": 0.9, \"b\": 0.9, \"c\": 0.4, \"d\": 0.5}\n",
        "\n",
        "print('The First Fuzzy Set is :', A)\n",
        "print('The Second Fuzzy Set is :', B)\n",
        "\n",
        "\n",
        "for A_key, B_key in zip(A, B):\n",
        "\tA_value = A[A_key]\n",
        "\tB_value = B[B_key]\n",
        "\n",
        "\tif A_value > B_value:\n",
        "\t\tY[A_key] = A_value\n",
        "\telse:\n",
        "\t\tY[B_key] = B_value\n",
        "\n",
        "print('Fuzzy Set Union is :', Y)"
      ],
      "metadata": {
        "colab": {
          "base_uri": "https://localhost:8080/"
        },
        "id": "3i9g4IX6wIH4",
        "outputId": "fcbd4bd9-abed-408e-aed4-430928edd3d0"
      },
      "execution_count": 35,
      "outputs": [
        {
          "output_type": "stream",
          "name": "stdout",
          "text": [
            "The First Fuzzy Set is : {'a': 0.2, 'b': 0.3, 'c': 0.6, 'd': 0.6}\n",
            "The Second Fuzzy Set is : {'a': 0.9, 'b': 0.9, 'c': 0.4, 'd': 0.5}\n",
            "Fuzzy Set Union is : {'a': 0.9, 'b': 0.9, 'c': 0.6, 'd': 0.6}\n"
          ]
        }
      ]
    },
    {
      "cell_type": "code",
      "source": [
        "#Intersection\n",
        "for A_key, B_key in zip(A, B):\n",
        "    A_value = A[A_key]\n",
        "    B_value = B[B_key]\n",
        "\n",
        "    if A_value < B_value:\n",
        "        Y[A_key] = A_value\n",
        "    else:\n",
        "        Y[B_key] = B_value\n",
        "print('Fuzzy Set Intersection is :', Y)"
      ],
      "metadata": {
        "colab": {
          "base_uri": "https://localhost:8080/"
        },
        "id": "MY-bmcxnxiz5",
        "outputId": "e668d392-fc4d-4e41-ab70-a8db70995b5c"
      },
      "execution_count": 39,
      "outputs": [
        {
          "output_type": "stream",
          "name": "stdout",
          "text": [
            "Fuzzy Set Intersection is : {'a': 0.2, 'b': 0.3, 'c': 0.4, 'd': 0.5}\n"
          ]
        }
      ]
    },
    {
      "cell_type": "code",
      "source": [
        "#Complement\n",
        "for A_key in A:\n",
        "   Y[A_key]= 1-A[A_key]\n",
        "\n",
        "print('Fuzzy Set Complement is :', Y)"
      ],
      "metadata": {
        "colab": {
          "base_uri": "https://localhost:8080/"
        },
        "id": "NZ8l_8t-xi8R",
        "outputId": "8c79a4a7-3aa5-4f64-ecf0-d20802075fc4"
      },
      "execution_count": 40,
      "outputs": [
        {
          "output_type": "stream",
          "name": "stdout",
          "text": [
            "Fuzzy Set Complement is : {'a': 0.8, 'b': 0.7, 'c': 0.4, 'd': 0.4}\n"
          ]
        }
      ]
    },
    {
      "cell_type": "code",
      "source": [
        "# Difference\n",
        "for A_key, B_key in zip(A, B):\n",
        "    A_value = A[A_key]\n",
        "    B_value = B[B_key]\n",
        "    B_value = 1 - B_value\n",
        "\n",
        "    if A_value < B_value:\n",
        "        Y[A_key] = A_value\n",
        "    else:\n",
        "        Y[B_key] = B_value\n",
        "\n",
        "print('Fuzzy Set Difference is :', Y)"
      ],
      "metadata": {
        "colab": {
          "base_uri": "https://localhost:8080/"
        },
        "id": "KREjoStVxjFD",
        "outputId": "2a06bc56-91a8-4368-9d4c-50dfe6fbca9e"
      },
      "execution_count": 41,
      "outputs": [
        {
          "output_type": "stream",
          "name": "stdout",
          "text": [
            "Fuzzy Set Difference is : {'a': 0.09999999999999998, 'b': 0.09999999999999998, 'c': 0.6, 'd': 0.5}\n"
          ]
        }
      ]
    },
    {
      "cell_type": "code",
      "source": [
        "#Q2\n",
        "import numpy as np\n",
        "def unitstep(v):\n",
        "    if v>= 0:\n",
        "        return 1\n",
        "    else:\n",
        "        return 0\n",
        "def percmod(x,w,b):\n",
        "    v=np.dot(w,x)+b\n",
        "    y=unitstep(v)\n",
        "    return y\n",
        "def andfunc(x):\n",
        "    w=np.array(x)\n",
        "    b=-1.5\n",
        "    return percmod(x,w,b)\n",
        "def orfunc(x):\n",
        "    w=np.array(x)\n",
        "    b=-1\n",
        "    return percmod(x,w,b)\n",
        "t1=np.array([0,1])\n",
        "t2=np.array([1,1])\n",
        "t3=np.array([0,0])\n",
        "t4=np.array([1,0])\n",
        "\n",
        "print(\"AND {}, {}: {}\".format(0,1,andfunc(t1)))\n",
        "print(\"AND {}, {}: {}\".format(1,1,andfunc(t2)))\n",
        "print(\"AND {}, {}: {}\".format(0,1,andfunc(t3)))\n",
        "print(\"AND {}, {}: {}\".format(1,0,andfunc(t4)))\n",
        "\n",
        "print(\"\\nOR {}, {}: {}\".format(0,1,orfunc(t1)))\n",
        "print(\"\\nOR {}, {}: {}\".format(1,1,orfunc(t2)))\n",
        "print(\"\\nOR {}, {}: {}\".format(0,0,orfunc(t3)))\n",
        "print(\"\\nOR {}, {}: {}\".format(1,0,orfunc(t4)))\n"
      ],
      "metadata": {
        "colab": {
          "base_uri": "https://localhost:8080/"
        },
        "id": "R3j6Wm4tyABe",
        "outputId": "588023f0-1372-45f4-ba48-cda838f08eef"
      },
      "execution_count": 42,
      "outputs": [
        {
          "output_type": "stream",
          "name": "stdout",
          "text": [
            "AND 0, 1: 0\n",
            "AND 1, 1: 1\n",
            "AND 0, 1: 0\n",
            "AND 1, 0: 0\n",
            "\n",
            "OR 0, 1: 1\n",
            "\n",
            "OR 1, 1: 1\n",
            "\n",
            "OR 0, 0: 0\n",
            "\n",
            "OR 1, 0: 1\n"
          ]
        }
      ]
    },
    {
      "cell_type": "code",
      "source": [],
      "metadata": {
        "id": "7R-Zh38nyULB"
      },
      "execution_count": null,
      "outputs": []
    }
  ]
}